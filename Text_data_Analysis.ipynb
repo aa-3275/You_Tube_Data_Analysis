{
 "cells": [
  {
   "cell_type": "markdown",
   "id": "9f0f28d1",
   "metadata": {},
   "source": [
    "# Sentiment Analysis of YouTube Channel"
   ]
  },
  {
   "cell_type": "markdown",
   "id": "d990ea1c",
   "metadata": {},
   "source": [
    "#### We are using the Youtube dataset to form some sentiment analysis on top of that."
   ]
  },
  {
   "cell_type": "code",
   "execution_count": 4,
   "id": "c63ccfdb",
   "metadata": {},
   "outputs": [],
   "source": [
    "import pandas as pd\n",
    "import numpy as np\n",
    "import matplotlib.pyplot as plt\n",
    "import seaborn as sns"
   ]
  },
  {
   "cell_type": "code",
   "execution_count": 5,
   "id": "3fe41581",
   "metadata": {},
   "outputs": [
    {
     "name": "stderr",
     "output_type": "stream",
     "text": [
      "C:\\Users\\admin\\AppData\\Local\\Temp\\ipykernel_10292\\3527028272.py:1: FutureWarning: The error_bad_lines argument has been deprecated and will be removed in a future version. Use on_bad_lines in the future.\n",
      "\n",
      "\n",
      "  comments=pd.read_csv(r\"F:\\Python_Data_Analyis_Project\\UScomments.csv\", error_bad_lines= False)\n",
      "b'Skipping line 41589: expected 4 fields, saw 11\\nSkipping line 51628: expected 4 fields, saw 7\\nSkipping line 114465: expected 4 fields, saw 5\\n'\n",
      "b'Skipping line 142496: expected 4 fields, saw 8\\nSkipping line 189732: expected 4 fields, saw 6\\nSkipping line 245218: expected 4 fields, saw 7\\n'\n",
      "b'Skipping line 388430: expected 4 fields, saw 5\\n'\n",
      "C:\\Users\\admin\\AppData\\Local\\Temp\\ipykernel_10292\\3527028272.py:1: DtypeWarning: Columns (2,3) have mixed types. Specify dtype option on import or set low_memory=False.\n",
      "  comments=pd.read_csv(r\"F:\\Python_Data_Analyis_Project\\UScomments.csv\", error_bad_lines= False)\n"
     ]
    }
   ],
   "source": [
    "comments=pd.read_csv(r\"F:\\Python_Data_Analyis_Project\\UScomments.csv\", error_bad_lines= False)"
   ]
  },
  {
   "cell_type": "code",
   "execution_count": 6,
   "id": "732433c5",
   "metadata": {},
   "outputs": [
    {
     "data": {
      "text/html": [
       "<div>\n",
       "<style scoped>\n",
       "    .dataframe tbody tr th:only-of-type {\n",
       "        vertical-align: middle;\n",
       "    }\n",
       "\n",
       "    .dataframe tbody tr th {\n",
       "        vertical-align: top;\n",
       "    }\n",
       "\n",
       "    .dataframe thead th {\n",
       "        text-align: right;\n",
       "    }\n",
       "</style>\n",
       "<table border=\"1\" class=\"dataframe\">\n",
       "  <thead>\n",
       "    <tr style=\"text-align: right;\">\n",
       "      <th></th>\n",
       "      <th>video_id</th>\n",
       "      <th>comment_text</th>\n",
       "      <th>likes</th>\n",
       "      <th>replies</th>\n",
       "    </tr>\n",
       "  </thead>\n",
       "  <tbody>\n",
       "    <tr>\n",
       "      <th>0</th>\n",
       "      <td>XpVt6Z1Gjjo</td>\n",
       "      <td>Logan Paul it's yo big day ‼️‼️‼️</td>\n",
       "      <td>4</td>\n",
       "      <td>0</td>\n",
       "    </tr>\n",
       "    <tr>\n",
       "      <th>1</th>\n",
       "      <td>XpVt6Z1Gjjo</td>\n",
       "      <td>I've been following you from the start of your...</td>\n",
       "      <td>3</td>\n",
       "      <td>0</td>\n",
       "    </tr>\n",
       "    <tr>\n",
       "      <th>2</th>\n",
       "      <td>XpVt6Z1Gjjo</td>\n",
       "      <td>Say hi to Kong and maverick for me</td>\n",
       "      <td>3</td>\n",
       "      <td>0</td>\n",
       "    </tr>\n",
       "    <tr>\n",
       "      <th>3</th>\n",
       "      <td>XpVt6Z1Gjjo</td>\n",
       "      <td>MY FAN . attendance</td>\n",
       "      <td>3</td>\n",
       "      <td>0</td>\n",
       "    </tr>\n",
       "    <tr>\n",
       "      <th>4</th>\n",
       "      <td>XpVt6Z1Gjjo</td>\n",
       "      <td>trending 😉</td>\n",
       "      <td>3</td>\n",
       "      <td>0</td>\n",
       "    </tr>\n",
       "  </tbody>\n",
       "</table>\n",
       "</div>"
      ],
      "text/plain": [
       "      video_id                                       comment_text likes  \\\n",
       "0  XpVt6Z1Gjjo                  Logan Paul it's yo big day ‼️‼️‼️     4   \n",
       "1  XpVt6Z1Gjjo  I've been following you from the start of your...     3   \n",
       "2  XpVt6Z1Gjjo                 Say hi to Kong and maverick for me     3   \n",
       "3  XpVt6Z1Gjjo                                MY FAN . attendance     3   \n",
       "4  XpVt6Z1Gjjo                                         trending 😉     3   \n",
       "\n",
       "  replies  \n",
       "0       0  \n",
       "1       0  \n",
       "2       0  \n",
       "3       0  \n",
       "4       0  "
      ]
     },
     "execution_count": 6,
     "metadata": {},
     "output_type": "execute_result"
    }
   ],
   "source": [
    "comments.head()"
   ]
  },
  {
   "cell_type": "code",
   "execution_count": 7,
   "id": "cafcb93a",
   "metadata": {},
   "outputs": [
    {
     "data": {
      "text/plain": [
       "video_id         0\n",
       "comment_text    25\n",
       "likes            0\n",
       "replies          0\n",
       "dtype: int64"
      ]
     },
     "execution_count": 7,
     "metadata": {},
     "output_type": "execute_result"
    }
   ],
   "source": [
    "comments.isnull().sum()"
   ]
  },
  {
   "cell_type": "code",
   "execution_count": 8,
   "id": "5bcfd61d",
   "metadata": {},
   "outputs": [],
   "source": [
    "comments.dropna(inplace=True)"
   ]
  },
  {
   "cell_type": "code",
   "execution_count": 9,
   "id": "c48740d8",
   "metadata": {},
   "outputs": [],
   "source": [
    "from textblob import TextBlob"
   ]
  },
  {
   "cell_type": "code",
   "execution_count": 10,
   "id": "c03f0747",
   "metadata": {},
   "outputs": [
    {
     "data": {
      "text/plain": [
       "0.0"
      ]
     },
     "execution_count": 10,
     "metadata": {},
     "output_type": "execute_result"
    }
   ],
   "source": [
    "TextBlob('trending 😉').sentiment.polarity"
   ]
  },
  {
   "cell_type": "code",
   "execution_count": 118,
   "id": "35502fdf",
   "metadata": {},
   "outputs": [],
   "source": [
    "df=comments"
   ]
  },
  {
   "cell_type": "code",
   "execution_count": 119,
   "id": "bafbbbd6",
   "metadata": {},
   "outputs": [],
   "source": [
    "polarity=[]\n",
    "for comment in df['comment_text']:\n",
    "    try:\n",
    "        polarity.append(TextBlob(comment).sentiment.polarity)\n",
    "    except:\n",
    "        polarity.append(0)"
   ]
  },
  {
   "cell_type": "code",
   "execution_count": 120,
   "id": "d1e29639",
   "metadata": {},
   "outputs": [],
   "source": [
    "df['polarity']=polarity"
   ]
  },
  {
   "cell_type": "code",
   "execution_count": 121,
   "id": "30eaa16e",
   "metadata": {},
   "outputs": [
    {
     "data": {
      "text/html": [
       "<div>\n",
       "<style scoped>\n",
       "    .dataframe tbody tr th:only-of-type {\n",
       "        vertical-align: middle;\n",
       "    }\n",
       "\n",
       "    .dataframe tbody tr th {\n",
       "        vertical-align: top;\n",
       "    }\n",
       "\n",
       "    .dataframe thead th {\n",
       "        text-align: right;\n",
       "    }\n",
       "</style>\n",
       "<table border=\"1\" class=\"dataframe\">\n",
       "  <thead>\n",
       "    <tr style=\"text-align: right;\">\n",
       "      <th></th>\n",
       "      <th>video_id</th>\n",
       "      <th>comment_text</th>\n",
       "      <th>likes</th>\n",
       "      <th>replies</th>\n",
       "      <th>polarity</th>\n",
       "    </tr>\n",
       "  </thead>\n",
       "  <tbody>\n",
       "    <tr>\n",
       "      <th>0</th>\n",
       "      <td>XpVt6Z1Gjjo</td>\n",
       "      <td>Logan Paul it's yo big day ‼️‼️‼️</td>\n",
       "      <td>4</td>\n",
       "      <td>0</td>\n",
       "      <td>0.000000</td>\n",
       "    </tr>\n",
       "    <tr>\n",
       "      <th>1</th>\n",
       "      <td>XpVt6Z1Gjjo</td>\n",
       "      <td>I've been following you from the start of your...</td>\n",
       "      <td>3</td>\n",
       "      <td>0</td>\n",
       "      <td>0.000000</td>\n",
       "    </tr>\n",
       "    <tr>\n",
       "      <th>2</th>\n",
       "      <td>XpVt6Z1Gjjo</td>\n",
       "      <td>Say hi to Kong and maverick for me</td>\n",
       "      <td>3</td>\n",
       "      <td>0</td>\n",
       "      <td>0.000000</td>\n",
       "    </tr>\n",
       "    <tr>\n",
       "      <th>3</th>\n",
       "      <td>XpVt6Z1Gjjo</td>\n",
       "      <td>MY FAN . attendance</td>\n",
       "      <td>3</td>\n",
       "      <td>0</td>\n",
       "      <td>0.000000</td>\n",
       "    </tr>\n",
       "    <tr>\n",
       "      <th>4</th>\n",
       "      <td>XpVt6Z1Gjjo</td>\n",
       "      <td>trending 😉</td>\n",
       "      <td>3</td>\n",
       "      <td>0</td>\n",
       "      <td>0.000000</td>\n",
       "    </tr>\n",
       "    <tr>\n",
       "      <th>5</th>\n",
       "      <td>XpVt6Z1Gjjo</td>\n",
       "      <td>#1 on trending AYYEEEEE</td>\n",
       "      <td>3</td>\n",
       "      <td>0</td>\n",
       "      <td>0.000000</td>\n",
       "    </tr>\n",
       "    <tr>\n",
       "      <th>6</th>\n",
       "      <td>XpVt6Z1Gjjo</td>\n",
       "      <td>The end though 😭👍🏻❤️</td>\n",
       "      <td>4</td>\n",
       "      <td>0</td>\n",
       "      <td>0.000000</td>\n",
       "    </tr>\n",
       "    <tr>\n",
       "      <th>7</th>\n",
       "      <td>XpVt6Z1Gjjo</td>\n",
       "      <td>#1 trending!!!!!!!!!</td>\n",
       "      <td>3</td>\n",
       "      <td>0</td>\n",
       "      <td>0.000000</td>\n",
       "    </tr>\n",
       "    <tr>\n",
       "      <th>8</th>\n",
       "      <td>XpVt6Z1Gjjo</td>\n",
       "      <td>Happy one year vlogaversary</td>\n",
       "      <td>3</td>\n",
       "      <td>0</td>\n",
       "      <td>0.800000</td>\n",
       "    </tr>\n",
       "    <tr>\n",
       "      <th>9</th>\n",
       "      <td>XpVt6Z1Gjjo</td>\n",
       "      <td>You and your shit brother may have single hand...</td>\n",
       "      <td>0</td>\n",
       "      <td>0</td>\n",
       "      <td>-0.135714</td>\n",
       "    </tr>\n",
       "    <tr>\n",
       "      <th>10</th>\n",
       "      <td>XpVt6Z1Gjjo</td>\n",
       "      <td>There should be a mini Logan Paul too!</td>\n",
       "      <td>0</td>\n",
       "      <td>0</td>\n",
       "      <td>0.000000</td>\n",
       "    </tr>\n",
       "    <tr>\n",
       "      <th>11</th>\n",
       "      <td>XpVt6Z1Gjjo</td>\n",
       "      <td>Dear Logan, I really wanna get your Merch but ...</td>\n",
       "      <td>0</td>\n",
       "      <td>0</td>\n",
       "      <td>0.200000</td>\n",
       "    </tr>\n",
       "    <tr>\n",
       "      <th>12</th>\n",
       "      <td>XpVt6Z1Gjjo</td>\n",
       "      <td>Honestly Evan is so annoying. Like its not fun...</td>\n",
       "      <td>0</td>\n",
       "      <td>0</td>\n",
       "      <td>-0.023333</td>\n",
       "    </tr>\n",
       "    <tr>\n",
       "      <th>13</th>\n",
       "      <td>XpVt6Z1Gjjo</td>\n",
       "      <td>Casey is still better then logan</td>\n",
       "      <td>0</td>\n",
       "      <td>0</td>\n",
       "      <td>0.500000</td>\n",
       "    </tr>\n",
       "  </tbody>\n",
       "</table>\n",
       "</div>"
      ],
      "text/plain": [
       "       video_id                                       comment_text likes  \\\n",
       "0   XpVt6Z1Gjjo                  Logan Paul it's yo big day ‼️‼️‼️     4   \n",
       "1   XpVt6Z1Gjjo  I've been following you from the start of your...     3   \n",
       "2   XpVt6Z1Gjjo                 Say hi to Kong and maverick for me     3   \n",
       "3   XpVt6Z1Gjjo                                MY FAN . attendance     3   \n",
       "4   XpVt6Z1Gjjo                                         trending 😉     3   \n",
       "5   XpVt6Z1Gjjo                            #1 on trending AYYEEEEE     3   \n",
       "6   XpVt6Z1Gjjo                               The end though 😭👍🏻❤️     4   \n",
       "7   XpVt6Z1Gjjo                               #1 trending!!!!!!!!!     3   \n",
       "8   XpVt6Z1Gjjo                        Happy one year vlogaversary     3   \n",
       "9   XpVt6Z1Gjjo  You and your shit brother may have single hand...     0   \n",
       "10  XpVt6Z1Gjjo             There should be a mini Logan Paul too!     0   \n",
       "11  XpVt6Z1Gjjo  Dear Logan, I really wanna get your Merch but ...     0   \n",
       "12  XpVt6Z1Gjjo  Honestly Evan is so annoying. Like its not fun...     0   \n",
       "13  XpVt6Z1Gjjo                   Casey is still better then logan     0   \n",
       "\n",
       "   replies  polarity  \n",
       "0        0  0.000000  \n",
       "1        0  0.000000  \n",
       "2        0  0.000000  \n",
       "3        0  0.000000  \n",
       "4        0  0.000000  \n",
       "5        0  0.000000  \n",
       "6        0  0.000000  \n",
       "7        0  0.000000  \n",
       "8        0  0.800000  \n",
       "9        0 -0.135714  \n",
       "10       0  0.000000  \n",
       "11       0  0.200000  \n",
       "12       0 -0.023333  \n",
       "13       0  0.500000  "
      ]
     },
     "execution_count": 121,
     "metadata": {},
     "output_type": "execute_result"
    }
   ],
   "source": [
    "df.head(14)"
   ]
  },
  {
   "cell_type": "markdown",
   "id": "c32dd7f8",
   "metadata": {},
   "source": [
    "Changing positive polarity as 1 and Negative as -1"
   ]
  },
  {
   "cell_type": "code",
   "execution_count": 122,
   "id": "9ecde92c",
   "metadata": {},
   "outputs": [],
   "source": [
    "comments_positive= df[df[\"polarity\"]==1]\n",
    "comments_negative=df[df[\"polarity\"]==-1]"
   ]
  },
  {
   "cell_type": "code",
   "execution_count": 123,
   "id": "bc89082c",
   "metadata": {},
   "outputs": [
    {
     "name": "stdout",
     "output_type": "stream",
     "text": [
      "Requirement already satisfied: wordcloud in c:\\users\\admin\\anaconda3\\lib\\site-packages (1.8.2.2)\n",
      "Requirement already satisfied: pillow in c:\\users\\admin\\anaconda3\\lib\\site-packages (from wordcloud) (9.0.1)\n",
      "Requirement already satisfied: matplotlib in c:\\users\\admin\\anaconda3\\lib\\site-packages (from wordcloud) (3.5.1)\n",
      "Requirement already satisfied: numpy>=1.6.1 in c:\\users\\admin\\anaconda3\\lib\\site-packages (from wordcloud) (1.21.5)\n",
      "Requirement already satisfied: cycler>=0.10 in c:\\users\\admin\\anaconda3\\lib\\site-packages (from matplotlib->wordcloud) (0.11.0)\n",
      "Requirement already satisfied: python-dateutil>=2.7 in c:\\users\\admin\\anaconda3\\lib\\site-packages (from matplotlib->wordcloud) (2.8.2)\n",
      "Requirement already satisfied: packaging>=20.0 in c:\\users\\admin\\anaconda3\\lib\\site-packages (from matplotlib->wordcloud) (21.3)\n",
      "Requirement already satisfied: pyparsing>=2.2.1 in c:\\users\\admin\\anaconda3\\lib\\site-packages (from matplotlib->wordcloud) (3.0.4)\n",
      "Requirement already satisfied: fonttools>=4.22.0 in c:\\users\\admin\\anaconda3\\lib\\site-packages (from matplotlib->wordcloud) (4.25.0)\n",
      "Requirement already satisfied: kiwisolver>=1.0.1 in c:\\users\\admin\\anaconda3\\lib\\site-packages (from matplotlib->wordcloud) (1.3.2)\n",
      "Requirement already satisfied: six>=1.5 in c:\\users\\admin\\anaconda3\\lib\\site-packages (from python-dateutil>=2.7->matplotlib->wordcloud) (1.16.0)\n",
      "Note: you may need to restart the kernel to use updated packages.\n"
     ]
    }
   ],
   "source": [
    "pip install wordcloud"
   ]
  },
  {
   "cell_type": "code",
   "execution_count": 124,
   "id": "c29d73d6",
   "metadata": {},
   "outputs": [],
   "source": [
    "from wordcloud import WordCloud, STOPWORDS"
   ]
  },
  {
   "cell_type": "code",
   "execution_count": 125,
   "id": "e9301d49",
   "metadata": {},
   "outputs": [
    {
     "data": {
      "text/plain": [
       "512       BEN CARSON IS THE MAN!!!!! THEY HATE HIM CAUSE...\n",
       "562       Well… The brain surgeon Ben Carson just proved...\n",
       "952              WHY DID YOU MAKE FURRY FORCE?! SO NASTY!!!\n",
       "1371                                         WTF BRUH!!!!!!\n",
       "1391                        cheeseus christ thats insane!!!\n",
       "                                ...                        \n",
       "690788                                  Like Kelly she evil\n",
       "690865                       R U FUCKING KIDDING ME?!?!?!?!\n",
       "691073             This is horribly offensive please report\n",
       "691180    Sink holes looks terrifying sinkholes sink you...\n",
       "691224    Trump talked to the president of US Virgin Isl...\n",
       "Name: comment_text, Length: 3508, dtype: object"
      ]
     },
     "execution_count": 125,
     "metadata": {},
     "output_type": "execute_result"
    }
   ],
   "source": [
    "comments_negative['comment_text']"
   ]
  },
  {
   "cell_type": "code",
   "execution_count": 126,
   "id": "c80ed4e3",
   "metadata": {},
   "outputs": [],
   "source": [
    "Total_comments=' '.join(comments_negative['comment_text'])"
   ]
  },
  {
   "cell_type": "code",
   "execution_count": 127,
   "id": "ccbe82d6",
   "metadata": {},
   "outputs": [
    {
     "data": {
      "text/plain": [
       "\"BEN CARSON IS THE MAN!!!!! THEY HATE HIM CAUSE HE EXPOSED HITLARY'S RITUAL ABUSE ON CHILDREN!!!!!!! \""
      ]
     },
     "execution_count": 127,
     "metadata": {},
     "output_type": "execute_result"
    }
   ],
   "source": [
    "Total_comments[0:100]"
   ]
  },
  {
   "cell_type": "markdown",
   "id": "864de499",
   "metadata": {},
   "source": [
    "### Negative WordCloud Analysis"
   ]
  },
  {
   "cell_type": "code",
   "execution_count": 128,
   "id": "4674f461",
   "metadata": {},
   "outputs": [
    {
     "data": {
      "text/plain": [
       "(-0.5, 399.5, 199.5, -0.5)"
      ]
     },
     "execution_count": 128,
     "metadata": {},
     "output_type": "execute_result"
    },
    {
     "data": {
      "image/png": "[encoded data removed]",
      "text/plain": [
       "<Figure size 1080x360 with 1 Axes>"
      ]
     },
     "metadata": {
      "needs_background": "light"
     },
     "output_type": "display_data"
    }
   ],
   "source": [
    "wordcloud= WordCloud(stopwords=set(STOPWORDS)).generate(Total_comments)\n",
    "plt.figure(figsize=(15,5))\n",
    "plt.imshow(wordcloud)\n",
    "plt.axis('off')"
   ]
  },
  {
   "cell_type": "code",
   "execution_count": 129,
   "id": "11270354",
   "metadata": {},
   "outputs": [],
   "source": [
    "Total_comments2=' '.join(comments_positive['comment_text'])"
   ]
  },
  {
   "cell_type": "markdown",
   "id": "950ec137",
   "metadata": {},
   "source": [
    "### Positive WordCloud Analysis"
   ]
  },
  {
   "cell_type": "code",
   "execution_count": 130,
   "id": "0dea9473",
   "metadata": {},
   "outputs": [
    {
     "data": {
      "text/plain": [
       "(-0.5, 399.5, 199.5, -0.5)"
      ]
     },
     "execution_count": 130,
     "metadata": {},
     "output_type": "execute_result"
    },
    {
     "data": {
      "image/png": "[encoded data removed]",
      "text/plain": [
       "<Figure size 1080x360 with 1 Axes>"
      ]
     },
     "metadata": {
      "needs_background": "light"
     },
     "output_type": "display_data"
    }
   ],
   "source": [
    "wordcloud= WordCloud(stopwords=set(STOPWORDS)).generate(Total_comments2)\n",
    "plt.figure(figsize=(15,5))\n",
    "plt.imshow(wordcloud)\n",
    "plt.axis('off')"
   ]
  },
  {
   "cell_type": "markdown",
   "id": "d98f6a08",
   "metadata": {},
   "source": [
    "## Emoji Analysis"
   ]
  },
  {
   "cell_type": "code",
   "execution_count": 131,
   "id": "69d37598",
   "metadata": {},
   "outputs": [
    {
     "name": "stdout",
     "output_type": "stream",
     "text": [
      "Requirement already satisfied: emoji in c:\\users\\admin\\anaconda3\\lib\\site-packages (2.2.0)\n"
     ]
    }
   ],
   "source": [
    "# Install a package called Emoji\n",
    "!pip install emoji"
   ]
  },
  {
   "cell_type": "code",
   "execution_count": 132,
   "id": "72054178",
   "metadata": {},
   "outputs": [
    {
     "data": {
      "text/html": [
       "<div>\n",
       "<style scoped>\n",
       "    .dataframe tbody tr th:only-of-type {\n",
       "        vertical-align: middle;\n",
       "    }\n",
       "\n",
       "    .dataframe tbody tr th {\n",
       "        vertical-align: top;\n",
       "    }\n",
       "\n",
       "    .dataframe thead th {\n",
       "        text-align: right;\n",
       "    }\n",
       "</style>\n",
       "<table border=\"1\" class=\"dataframe\">\n",
       "  <thead>\n",
       "    <tr style=\"text-align: right;\">\n",
       "      <th></th>\n",
       "      <th>video_id</th>\n",
       "      <th>comment_text</th>\n",
       "      <th>likes</th>\n",
       "      <th>replies</th>\n",
       "      <th>polarity</th>\n",
       "    </tr>\n",
       "  </thead>\n",
       "  <tbody>\n",
       "    <tr>\n",
       "      <th>0</th>\n",
       "      <td>XpVt6Z1Gjjo</td>\n",
       "      <td>Logan Paul it's yo big day ‼️‼️‼️</td>\n",
       "      <td>4</td>\n",
       "      <td>0</td>\n",
       "      <td>0.0</td>\n",
       "    </tr>\n",
       "    <tr>\n",
       "      <th>1</th>\n",
       "      <td>XpVt6Z1Gjjo</td>\n",
       "      <td>I've been following you from the start of your...</td>\n",
       "      <td>3</td>\n",
       "      <td>0</td>\n",
       "      <td>0.0</td>\n",
       "    </tr>\n",
       "    <tr>\n",
       "      <th>2</th>\n",
       "      <td>XpVt6Z1Gjjo</td>\n",
       "      <td>Say hi to Kong and maverick for me</td>\n",
       "      <td>3</td>\n",
       "      <td>0</td>\n",
       "      <td>0.0</td>\n",
       "    </tr>\n",
       "    <tr>\n",
       "      <th>3</th>\n",
       "      <td>XpVt6Z1Gjjo</td>\n",
       "      <td>MY FAN . attendance</td>\n",
       "      <td>3</td>\n",
       "      <td>0</td>\n",
       "      <td>0.0</td>\n",
       "    </tr>\n",
       "    <tr>\n",
       "      <th>4</th>\n",
       "      <td>XpVt6Z1Gjjo</td>\n",
       "      <td>trending 😉</td>\n",
       "      <td>3</td>\n",
       "      <td>0</td>\n",
       "      <td>0.0</td>\n",
       "    </tr>\n",
       "  </tbody>\n",
       "</table>\n",
       "</div>"
      ],
      "text/plain": [
       "      video_id                                       comment_text likes  \\\n",
       "0  XpVt6Z1Gjjo                  Logan Paul it's yo big day ‼️‼️‼️     4   \n",
       "1  XpVt6Z1Gjjo  I've been following you from the start of your...     3   \n",
       "2  XpVt6Z1Gjjo                 Say hi to Kong and maverick for me     3   \n",
       "3  XpVt6Z1Gjjo                                MY FAN . attendance     3   \n",
       "4  XpVt6Z1Gjjo                                         trending 😉     3   \n",
       "\n",
       "  replies  polarity  \n",
       "0       0       0.0  \n",
       "1       0       0.0  \n",
       "2       0       0.0  \n",
       "3       0       0.0  \n",
       "4       0       0.0  "
      ]
     },
     "execution_count": 132,
     "metadata": {},
     "output_type": "execute_result"
    }
   ],
   "source": [
    "df.head()"
   ]
  },
  {
   "cell_type": "code",
   "execution_count": 133,
   "id": "201aa5ec",
   "metadata": {},
   "outputs": [],
   "source": [
    "import emoji"
   ]
  },
  {
   "cell_type": "code",
   "execution_count": 134,
   "id": "b0bea0d4",
   "metadata": {},
   "outputs": [],
   "source": [
    "emojies_list=[]"
   ]
  },
  {
   "cell_type": "code",
   "execution_count": 135,
   "id": "1274dcfd",
   "metadata": {},
   "outputs": [],
   "source": [
    "import emoji\n",
    "emojis_list = []\n",
    "for comment in df['comment_text']:\n",
    "    emojis_list.extend([j for j in comment if emoji.is_emoji(j)])\n"
   ]
  },
  {
   "cell_type": "code",
   "execution_count": 136,
   "id": "866122dd",
   "metadata": {},
   "outputs": [
    {
     "data": {
      "text/plain": [
       "['‼', '‼', '‼', '😉', '😭', '👍', '🏻', '❤', '😍', '💋']"
      ]
     },
     "execution_count": 136,
     "metadata": {},
     "output_type": "execute_result"
    }
   ],
   "source": [
    "emojis_list[0:10]\n"
   ]
  },
  {
   "cell_type": "markdown",
   "id": "e9f9ec3d",
   "metadata": {},
   "source": [
    "## Conversion of Emojis into its dictionary having frequencies as its value."
   ]
  },
  {
   "cell_type": "code",
   "execution_count": 137,
   "id": "3e1ac217",
   "metadata": {},
   "outputs": [],
   "source": [
    "def frequency_dict(emojis_list):\n",
    "    dict={}\n",
    "    for char in emojis_list:\n",
    "        if char in dict:\n",
    "            dict[char]+=1\n",
    "        else:\n",
    "            dict[char]=1\n",
    "    return dict"
   ]
  },
  {
   "cell_type": "code",
   "execution_count": 138,
   "id": "f32be087",
   "metadata": {},
   "outputs": [
    {
     "data": {
      "text/plain": [
       "{'‼': 211,\n",
       " '😉': 998,\n",
       " '😭': 8398,\n",
       " '👍': 5476,\n",
       " '🏻': 3438,\n",
       " '❤': 31119,\n",
       " '😍': 33453,\n",
       " '💋': 968,\n",
       " '💙': 2831,\n",
       " '👈': 126,\n",
       " '😂': 36987,\n",
       " '🔥': 8694,\n",
       " '👻': 268,\n",
       " '💎': 316,\n",
       " '😆': 1149,\n",
       " '😁': 2220,\n",
       " '😒': 629,\n",
       " '👏': 5719,\n",
       " '😊': 3596,\n",
       " '👌': 3112,\n",
       " '🤔': 1592,\n",
       " '💔': 617,\n",
       " '👎': 673,\n",
       " '🍎': 49,\n",
       " '😤': 378,\n",
       " '😢': 2672,\n",
       " '👫': 33,\n",
       " '💘': 702,\n",
       " '😻': 1409,\n",
       " '💖': 5359,\n",
       " '🌟': 549,\n",
       " '😮': 1232,\n",
       " '👇': 151,\n",
       " '😳': 398,\n",
       " '😠': 599,\n",
       " '😴': 187,\n",
       " '😝': 413,\n",
       " '™': 46,\n",
       " '☺': 1180,\n",
       " '😔': 545,\n",
       " '😩': 1472,\n",
       " '😡': 478,\n",
       " '🙏': 1818,\n",
       " '😄': 1496,\n",
       " '😬': 3381,\n",
       " '☹': 173,\n",
       " '🤷': 334,\n",
       " '🤣': 2279,\n",
       " '😃': 1235,\n",
       " '🏽': 1593,\n",
       " '🍏': 56,\n",
       " '😓': 280,\n",
       " '🤦': 390,\n",
       " '♀': 523,\n",
       " '😞': 364,\n",
       " '🏼': 2549,\n",
       " '✌': 835,\n",
       " '💀': 926,\n",
       " '👀': 495,\n",
       " '😱': 2094,\n",
       " '👑': 678,\n",
       " '🌮': 69,\n",
       " '😀': 1734,\n",
       " '💆': 20,\n",
       " '🏿': 501,\n",
       " '♂': 507,\n",
       " '😅': 1070,\n",
       " '🐂': 12,\n",
       " '💩': 925,\n",
       " '💕': 5147,\n",
       " '💓': 1540,\n",
       " '💗': 2144,\n",
       " '💝': 592,\n",
       " '💜': 3429,\n",
       " '😎': 1358,\n",
       " '🎉': 684,\n",
       " '😋': 596,\n",
       " '😘': 5545,\n",
       " '😐': 644,\n",
       " '😕': 453,\n",
       " '🤘': 619,\n",
       " '🙌': 2233,\n",
       " '😏': 623,\n",
       " '😛': 266,\n",
       " '🌳': 10,\n",
       " '🌽': 36,\n",
       " '🎃': 739,\n",
       " '🚣': 15,\n",
       " '🚂': 11,\n",
       " '😑': 487,\n",
       " '✨': 889,\n",
       " '👅': 194,\n",
       " '💦': 427,\n",
       " '🌴': 54,\n",
       " '😫': 692,\n",
       " '😥': 742,\n",
       " '💪': 687,\n",
       " '🙂': 452,\n",
       " '🙈': 312,\n",
       " '😲': 496,\n",
       " '🤢': 274,\n",
       " '🎧': 186,\n",
       " '🎶': 906,\n",
       " '🎵': 284,\n",
       " '🎼': 159,\n",
       " '🎤': 360,\n",
       " '♨': 39,\n",
       " '💯': 1450,\n",
       " '👊': 379,\n",
       " '💏': 32,\n",
       " '🙃': 253,\n",
       " '🐸': 124,\n",
       " '🏈': 36,\n",
       " '💁': 180,\n",
       " '🤡': 305,\n",
       " '🙇': 64,\n",
       " '👋': 193,\n",
       " '💄': 177,\n",
       " '🐐': 224,\n",
       " '😇': 640,\n",
       " '🐊': 17,\n",
       " '🌎': 94,\n",
       " '🖤': 784,\n",
       " '🤗': 896,\n",
       " '🙄': 627,\n",
       " '😨': 335,\n",
       " '😌': 338,\n",
       " '🤑': 108,\n",
       " '😗': 354,\n",
       " '📱': 231,\n",
       " '🌀': 24,\n",
       " '🏾': 1205,\n",
       " '😶': 176,\n",
       " '😖': 287,\n",
       " '🙋': 282,\n",
       " '🌹': 622,\n",
       " '😵': 277,\n",
       " '🌯': 50,\n",
       " '😣': 381,\n",
       " '💛': 1677,\n",
       " '💞': 1420,\n",
       " '😽': 26,\n",
       " '♥': 4909,\n",
       " '😜': 573,\n",
       " '🚩': 16,\n",
       " '🆙': 10,\n",
       " '🆒': 17,\n",
       " '✔': 169,\n",
       " '🙊': 139,\n",
       " '😹': 201,\n",
       " '🥀': 28,\n",
       " '🍫': 152,\n",
       " '👸': 120,\n",
       " '😰': 231,\n",
       " '💚': 1295,\n",
       " '🎊': 125,\n",
       " '🎂': 156,\n",
       " '🐈': 34,\n",
       " '⌚': 19,\n",
       " '👿': 175,\n",
       " '💸': 235,\n",
       " '💰': 488,\n",
       " '🏀': 78,\n",
       " '🎈': 610,\n",
       " '🔪': 76,\n",
       " '🚫': 72,\n",
       " '🤠': 60,\n",
       " '🖕': 884,\n",
       " '👉': 204,\n",
       " '✊': 289,\n",
       " '🤴': 24,\n",
       " '🐘': 20,\n",
       " '❄': 206,\n",
       " '🍦': 73,\n",
       " '🅱': 207,\n",
       " '😙': 1067,\n",
       " '💧': 43,\n",
       " '❗': 140,\n",
       " '😈': 393,\n",
       " '🙁': 133,\n",
       " '👽': 162,\n",
       " '⚠': 68,\n",
       " '👭': 54,\n",
       " '🍓': 252,\n",
       " '😯': 148,\n",
       " '🎥': 76,\n",
       " '☝': 156,\n",
       " '❣': 521,\n",
       " '🎀': 46,\n",
       " '🍭': 89,\n",
       " '💌': 71,\n",
       " '🐼': 52,\n",
       " '😚': 482,\n",
       " '🌻': 84,\n",
       " '🐇': 28,\n",
       " '🐰': 38,\n",
       " '🔸': 48,\n",
       " '🚀': 98,\n",
       " '🚔': 14,\n",
       " '🚒': 27,\n",
       " '🚑': 9,\n",
       " '💃': 382,\n",
       " '💟': 508,\n",
       " '💨': 67,\n",
       " '🎺': 17,\n",
       " '👣': 130,\n",
       " '👆': 70,\n",
       " '👂': 23,\n",
       " '👃': 27,\n",
       " '🌭': 19,\n",
       " '👐': 147,\n",
       " '🌊': 62,\n",
       " '🌞': 54,\n",
       " '🦄': 391,\n",
       " '🌬': 13,\n",
       " '🌪': 24,\n",
       " '⛈': 22,\n",
       " '🌲': 39,\n",
       " '😸': 75,\n",
       " '👮': 24,\n",
       " '👕': 24,\n",
       " '👖': 31,\n",
       " '👘': 14,\n",
       " '👚': 9,\n",
       " '👔': 10,\n",
       " '⬇': 15,\n",
       " '🍆': 100,\n",
       " '😦': 154,\n",
       " '😧': 146,\n",
       " '😟': 122,\n",
       " '😷': 139,\n",
       " '😪': 249,\n",
       " '🙍': 20,\n",
       " '🙅': 143,\n",
       " '🙆': 96,\n",
       " '🙎': 12,\n",
       " '😺': 83,\n",
       " '😼': 25,\n",
       " '😿': 126,\n",
       " '😾': 24,\n",
       " '🙀': 62,\n",
       " '🙉': 43,\n",
       " '👶': 53,\n",
       " '👦': 69,\n",
       " '👧': 145,\n",
       " '👨': 212,\n",
       " '👩': 270,\n",
       " '👴': 9,\n",
       " '👵': 10,\n",
       " '💑': 125,\n",
       " '👪': 14,\n",
       " '👬': 32,\n",
       " '👤': 8,\n",
       " '👥': 12,\n",
       " '👷': 15,\n",
       " '💂': 15,\n",
       " '👯': 49,\n",
       " '👰': 60,\n",
       " '🎅': 55,\n",
       " '👼': 36,\n",
       " '👱': 24,\n",
       " '👲': 7,\n",
       " '👳': 26,\n",
       " '💇': 22,\n",
       " '💅': 127,\n",
       " '👹': 49,\n",
       " '👺': 48,\n",
       " '👾': 81,\n",
       " '👄': 90,\n",
       " '✋': 99,\n",
       " '🔰': 14,\n",
       " '👞': 17,\n",
       " '👟': 39,\n",
       " '👒': 12,\n",
       " '🎩': 29,\n",
       " '🎓': 17,\n",
       " '👓': 21,\n",
       " '👗': 24,\n",
       " '👙': 39,\n",
       " '👠': 39,\n",
       " '👡': 10,\n",
       " '👢': 19,\n",
       " '👜': 10,\n",
       " '💼': 15,\n",
       " '🎒': 9,\n",
       " '👝': 8,\n",
       " '👛': 14,\n",
       " '💳': 31,\n",
       " '💵': 628,\n",
       " '💴': 40,\n",
       " '💶': 32,\n",
       " '💷': 25,\n",
       " '💱': 7,\n",
       " '🔫': 123,\n",
       " '💣': 197,\n",
       " '💉': 14,\n",
       " '💊': 14,\n",
       " '🚬': 27,\n",
       " '🔔': 32,\n",
       " '🔕': 9,\n",
       " '🚪': 57,\n",
       " '🔬': 24,\n",
       " '🔭': 8,\n",
       " '🔮': 37,\n",
       " '🔦': 8,\n",
       " '🔋': 11,\n",
       " '🔌': 14,\n",
       " '📜': 8,\n",
       " '📗': 6,\n",
       " '📘': 11,\n",
       " '📙': 8,\n",
       " '📚': 48,\n",
       " '📔': 7,\n",
       " '📒': 8,\n",
       " '📑': 5,\n",
       " '📓': 7,\n",
       " '📕': 8,\n",
       " '📖': 26,\n",
       " '📰': 9,\n",
       " '📛': 10,\n",
       " '🎄': 97,\n",
       " '🎁': 81,\n",
       " '🎆': 86,\n",
       " '🎇': 165,\n",
       " '🎍': 14,\n",
       " '🎋': 9,\n",
       " '📲': 23,\n",
       " '📟': 9,\n",
       " '☎': 13,\n",
       " '📞': 11,\n",
       " '📠': 8,\n",
       " '📦': 17,\n",
       " '✉': 17,\n",
       " '📨': 9,\n",
       " '📩': 8,\n",
       " '📪': 7,\n",
       " '📫': 8,\n",
       " '📭': 9,\n",
       " '📬': 9,\n",
       " '📮': 7,\n",
       " '📤': 6,\n",
       " '📥': 8,\n",
       " '📯': 6,\n",
       " '📢': 22,\n",
       " '📣': 40,\n",
       " '📡': 12,\n",
       " '💬': 13,\n",
       " '💭': 43,\n",
       " '✒': 18,\n",
       " '✏': 13,\n",
       " '📝': 19,\n",
       " '📏': 17,\n",
       " '📐': 9,\n",
       " '📍': 7,\n",
       " '📌': 10,\n",
       " '📎': 10,\n",
       " '✂': 13,\n",
       " '💺': 5,\n",
       " '💻': 27,\n",
       " '💽': 23,\n",
       " '💾': 8,\n",
       " '💿': 1031,\n",
       " '📆': 6,\n",
       " '📅': 11,\n",
       " '📇': 8,\n",
       " '📋': 5,\n",
       " '📁': 38,\n",
       " '📂': 25,\n",
       " '📃': 5,\n",
       " '📄': 6,\n",
       " '📊': 6,\n",
       " '📈': 13,\n",
       " '📉': 18,\n",
       " '⛺': 9,\n",
       " '🎡': 12,\n",
       " '🎢': 16,\n",
       " '🎠': 23,\n",
       " '🎪': 8,\n",
       " '🎨': 22,\n",
       " '🎬': 31,\n",
       " '📷': 22,\n",
       " '📹': 24,\n",
       " '🎦': 7,\n",
       " '🎭': 21,\n",
       " '🎫': 12,\n",
       " '🎮': 36,\n",
       " '🎲': 43,\n",
       " '🎰': 6,\n",
       " '🃏': 16,\n",
       " '🎴': 9,\n",
       " '🀄': 11,\n",
       " '🎯': 39,\n",
       " '📺': 14,\n",
       " '📻': 10,\n",
       " '📀': 68,\n",
       " '📼': 9,\n",
       " '🎻': 40,\n",
       " '🎹': 147,\n",
       " '🎷': 23,\n",
       " '🎸': 128,\n",
       " '〽': 8,\n",
       " '🐕': 108,\n",
       " '🐶': 325,\n",
       " '🐩': 40,\n",
       " '🐱': 103,\n",
       " '🐀': 12,\n",
       " '🐁': 9,\n",
       " '🐭': 13,\n",
       " '🐹': 12,\n",
       " '🐢': 380,\n",
       " '🐓': 129,\n",
       " '🐔': 21,\n",
       " '🐣': 71,\n",
       " '🐤': 37,\n",
       " '🐥': 104,\n",
       " '🐦': 70,\n",
       " '🐏': 32,\n",
       " '🐑': 117,\n",
       " '🐺': 303,\n",
       " '🐃': 14,\n",
       " '🐄': 29,\n",
       " '🐮': 13,\n",
       " '🐴': 24,\n",
       " '🐗': 9,\n",
       " '🐖': 29,\n",
       " '🐷': 38,\n",
       " '🐽': 23,\n",
       " '🐍': 1143,\n",
       " '🐧': 30,\n",
       " '🐨': 23,\n",
       " '🐒': 36,\n",
       " '🐵': 20,\n",
       " '🐆': 12,\n",
       " '🐯': 20,\n",
       " '🐻': 128,\n",
       " '🐫': 111,\n",
       " '🐪': 9,\n",
       " '🐳': 24,\n",
       " '🐋': 15,\n",
       " '🐟': 57,\n",
       " '🐠': 21,\n",
       " '🐡': 15,\n",
       " '🐙': 31,\n",
       " '🐚': 12,\n",
       " '🐬': 22,\n",
       " '🐌': 10,\n",
       " '🐛': 24,\n",
       " '🐜': 48,\n",
       " '🐝': 261,\n",
       " '🐞': 23,\n",
       " '🐲': 28,\n",
       " '🐉': 30,\n",
       " '🐾': 103,\n",
       " '🍸': 146,\n",
       " '🍺': 69,\n",
       " '🍻': 83,\n",
       " '🍷': 80,\n",
       " '🏡': 25,\n",
       " '💍': 80,\n",
       " '🤓': 176,\n",
       " '🦀': 12,\n",
       " '🕷': 35,\n",
       " '🍨': 24,\n",
       " '⛳': 12,\n",
       " '🤤': 389,\n",
       " '🎾': 18,\n",
       " '🍯': 25,\n",
       " '⛪': 21,\n",
       " '🆘': 15,\n",
       " '🦎': 11,\n",
       " '🦁': 26,\n",
       " '🐎': 24,\n",
       " '🐅': 10,\n",
       " '🌔': 6,\n",
       " '🌚': 66,\n",
       " '🌝': 32,\n",
       " '🌛': 21,\n",
       " '💫': 107,\n",
       " '🌜': 6,\n",
       " '🌓': 5,\n",
       " '🌒': 9,\n",
       " '🌑': 14,\n",
       " '🌗': 5,\n",
       " '🌍': 1810,\n",
       " '🌕': 40,\n",
       " '🌖': 5,\n",
       " '🚤': 8,\n",
       " '🚝': 6,\n",
       " '🚡': 7,\n",
       " '🏝': 6,\n",
       " '🛤': 4,\n",
       " '🌌': 70,\n",
       " '🌠': 41,\n",
       " '⛰': 3,\n",
       " '🌁': 6,\n",
       " '🌆': 7,\n",
       " '🗼': 15,\n",
       " '🗽': 20,\n",
       " '🏗': 10,\n",
       " '🏟': 8,\n",
       " '🏯': 7,\n",
       " '🏰': 5,\n",
       " '🏘': 4,\n",
       " '🚢': 11,\n",
       " '🕌': 6,\n",
       " '🕋': 16,\n",
       " '🏢': 9,\n",
       " '⛩': 4,\n",
       " '🏬': 8,\n",
       " '🏛': 4,\n",
       " '🏨': 6,\n",
       " '🏪': 5,\n",
       " '🏣': 6,\n",
       " '🖥': 12,\n",
       " '⌨': 4,\n",
       " '🕰': 6,\n",
       " '⏱': 4,\n",
       " '⚒': 2,\n",
       " '🔝': 143,\n",
       " '🔜': 18,\n",
       " '🤥': 50,\n",
       " '🕺': 74,\n",
       " '🔐': 25,\n",
       " '🌺': 81,\n",
       " '🌸': 185,\n",
       " '🤧': 109,\n",
       " '💥': 344,\n",
       " '🤙': 147,\n",
       " '💐': 88,\n",
       " '♓': 7,\n",
       " '♣': 12,\n",
       " '🖐': 29,\n",
       " '🤐': 61,\n",
       " '🔨': 12,\n",
       " '🤚': 22,\n",
       " '🍼': 52,\n",
       " '🔴': 824,\n",
       " '🔵': 759,\n",
       " '🅾': 19,\n",
       " '☑': 10,\n",
       " '🍣': 23,\n",
       " '🍉': 97,\n",
       " '🌵': 26,\n",
       " '❌': 60,\n",
       " '🍕': 258,\n",
       " '🤨': 2,\n",
       " '🤹': 7,\n",
       " '↙': 12,\n",
       " '©': 18,\n",
       " '🍾': 101,\n",
       " '⚰': 28,\n",
       " '🏆': 121,\n",
       " '🍝': 26,\n",
       " '🍔': 418,\n",
       " '🍴': 16,\n",
       " '📿': 14,\n",
       " '🌋': 42,\n",
       " '🌈': 359,\n",
       " '⚡': 133,\n",
       " '🤞': 69,\n",
       " '®': 39,\n",
       " '🦋': 48,\n",
       " '🍰': 73,\n",
       " '🔊': 56,\n",
       " '🌶': 28,\n",
       " '☄': 27,\n",
       " '🥗': 6,\n",
       " '🍜': 59,\n",
       " '🍱': 16,\n",
       " '🥙': 6,\n",
       " '🍖': 48,\n",
       " '🍗': 327,\n",
       " '🍪': 59,\n",
       " '🍩': 61,\n",
       " '☠': 156,\n",
       " '☮': 17,\n",
       " '🤕': 32,\n",
       " '⭐': 198,\n",
       " '🔒': 18,\n",
       " '🥁': 23,\n",
       " '💤': 31,\n",
       " '🍁': 223,\n",
       " '🦑': 11,\n",
       " '🌙': 41,\n",
       " '➡': 66,\n",
       " '🥊': 15,\n",
       " '🏃': 49,\n",
       " '☕': 75,\n",
       " '🚙': 14,\n",
       " '🏋': 13,\n",
       " '🖖': 27,\n",
       " '♋': 12,\n",
       " '🗣': 64,\n",
       " '🤝': 17,\n",
       " '🍚': 29,\n",
       " '🏍': 9,\n",
       " '🍑': 127,\n",
       " '🥂': 33,\n",
       " '🥑': 7,\n",
       " '📸': 8,\n",
       " '⛵': 12,\n",
       " '🦅': 20,\n",
       " '🚮': 40,\n",
       " '🦆': 41,\n",
       " '✅': 115,\n",
       " '🛒': 5,\n",
       " '🕵': 25,\n",
       " '🔑': 28,\n",
       " '🔉': 12,\n",
       " '🍀': 35,\n",
       " '🌷': 73,\n",
       " '⁉': 21,\n",
       " '✈': 42,\n",
       " '⏫': 4,\n",
       " '⚔': 7,\n",
       " '🍂': 354,\n",
       " '🦉': 7,\n",
       " '🍃': 59,\n",
       " '♍': 8,\n",
       " '🏳': 55,\n",
       " '🖱': 6,\n",
       " '✴': 23,\n",
       " '⛲': 9,\n",
       " '✡': 4,\n",
       " '🤸': 55,\n",
       " '🍟': 43,\n",
       " '👁': 83,\n",
       " '🌼': 108,\n",
       " '⬆': 32,\n",
       " '💹': 3,\n",
       " '▶': 44,\n",
       " '🦇': 15,\n",
       " '🕊': 33,\n",
       " '☀': 57,\n",
       " '🏅': 41,\n",
       " '🎖': 10,\n",
       " '🥇': 41,\n",
       " '🥈': 7,\n",
       " '🥉': 8,\n",
       " '🍍': 165,\n",
       " '🍳': 28,\n",
       " '🍤': 19,\n",
       " '🌇': 8,\n",
       " '💮': 8,\n",
       " '💲': 106,\n",
       " '🍧': 17,\n",
       " '🌐': 20,\n",
       " '🥋': 7,\n",
       " '〰': 290,\n",
       " '🔞': 16,\n",
       " '🎗': 12,\n",
       " '🔆': 11,\n",
       " '💢': 13,\n",
       " '🚽': 25,\n",
       " '🚨': 176,\n",
       " '🍿': 43,\n",
       " '📽': 11,\n",
       " '💈': 7,\n",
       " '🦌': 10,\n",
       " '🦊': 10,\n",
       " '🌾': 17,\n",
       " '🐿': 8,\n",
       " '☔': 7,\n",
       " '🖊': 4,\n",
       " '🌤': 11,\n",
       " '⛅': 10,\n",
       " '☃': 32,\n",
       " '🕸': 10,\n",
       " '↗': 14,\n",
       " '🔽': 11,\n",
       " '🥛': 14,\n",
       " '🍋': 26,\n",
       " '🖼': 4,\n",
       " '🤛': 33,\n",
       " '🗺': 21,\n",
       " '🌄': 8,\n",
       " '🌱': 19,\n",
       " '⚓': 16,\n",
       " '♦': 15,\n",
       " '🗑': 11,\n",
       " '🔙': 9,\n",
       " '🤖': 27,\n",
       " '🍬': 91,\n",
       " '⛸': 11,\n",
       " '⭕': 22,\n",
       " '🍊': 43,\n",
       " '🚲': 12,\n",
       " '⚽': 76,\n",
       " '◀': 20,\n",
       " '☢': 7,\n",
       " '🥔': 17,\n",
       " '🗻': 5,\n",
       " '💒': 14,\n",
       " '☘': 8,\n",
       " '💡': 19,\n",
       " 'ℹ': 6,\n",
       " '🥒': 8,\n",
       " '🍇': 77,\n",
       " '🍒': 51,\n",
       " '🍈': 25,\n",
       " '🍐': 36,\n",
       " '🍶': 29,\n",
       " '🍅': 25,\n",
       " '🔓': 9,\n",
       " '⤵': 7,\n",
       " '🍹': 29,\n",
       " '🍄': 19,\n",
       " '♠': 7,\n",
       " '🤵': 9,\n",
       " '⚫': 8,\n",
       " '🗝': 6,\n",
       " '🅿': 13,\n",
       " '📧': 7,\n",
       " '🏵': 8,\n",
       " '🔅': 14,\n",
       " '⛑': 26,\n",
       " '🤒': 27,\n",
       " '⬅': 15,\n",
       " '🌏': 55,\n",
       " '♊': 7,\n",
       " '🈴': 9,\n",
       " '🈯': 7,\n",
       " '🈶': 7,\n",
       " '🈳': 10,\n",
       " '🌃': 13,\n",
       " '🚾': 14,\n",
       " '⏪': 4,\n",
       " '❓': 24,\n",
       " '♏': 13,\n",
       " '♈': 8,\n",
       " '♉': 6,\n",
       " '♌': 7,\n",
       " '♎': 18,\n",
       " '♐': 8,\n",
       " '♑': 9,\n",
       " '♒': 6,\n",
       " '🤜': 29,\n",
       " '🚓': 7,\n",
       " '🧀': 28,\n",
       " '🍥': 22,\n",
       " '⏰': 12,\n",
       " '⛏': 4,\n",
       " '🗡': 19,\n",
       " '⛱': 5,\n",
       " '✝': 146,\n",
       " '🕯': 8,\n",
       " '🕶': 18,\n",
       " '🚇': 7,\n",
       " '🔇': 6,\n",
       " '🎛': 4,\n",
       " '🎚': 4,\n",
       " '🗯': 9,\n",
       " '🏁': 18,\n",
       " '💠': 8,\n",
       " '🎙': 12,\n",
       " '⏮': 3,\n",
       " '🕴': 37,\n",
       " '▪': 8,\n",
       " '🥓': 12,\n",
       " '🔼': 11,\n",
       " '✍': 9,\n",
       " '🤰': 14,\n",
       " '🚋': 10,\n",
       " '⛽': 7,\n",
       " '♻': 8,\n",
       " '🔱': 16,\n",
       " '🍵': 23,\n",
       " '🍮': 15,\n",
       " '⬛': 141,\n",
       " '⬜': 142,\n",
       " '🔷': 103,\n",
       " '🔶': 103,\n",
       " '⚱': 7,\n",
       " '🔍': 9,\n",
       " '🎣': 15,\n",
       " '🏄': 25,\n",
       " '🦃': 13,\n",
       " '🍌': 35,\n",
       " '🏐': 33,\n",
       " '▫': 6,\n",
       " '🚶': 14,\n",
       " '🥐': 10,\n",
       " '❕': 26,\n",
       " '📵': 7,\n",
       " '🍠': 13,\n",
       " '🍞': 18,\n",
       " '🍢': 16,\n",
       " '🍡': 43,\n",
       " '⚾': 22,\n",
       " '🏉': 41,\n",
       " '🏌': 7,\n",
       " '🏒': 7,\n",
       " '⛷': 5,\n",
       " '🏂': 9,\n",
       " '🏏': 5,\n",
       " '🏸': 9,\n",
       " '🎱': 57,\n",
       " '🏓': 22,\n",
       " '🤳': 8,\n",
       " '🔻': 19,\n",
       " '🔀': 7,\n",
       " '⏩': 8,\n",
       " '↘': 8,\n",
       " '⏬': 4,\n",
       " '🔺': 13,\n",
       " '☁': 87,\n",
       " '🏜': 6,\n",
       " '🌅': 13,\n",
       " '🌿': 27,\n",
       " '⚪': 8,\n",
       " '🌧': 11,\n",
       " '🏞': 6,\n",
       " '🏊': 16,\n",
       " '🛐': 13,\n",
       " '🥝': 10,\n",
       " '🗨': 6,\n",
       " '⚖': 12,\n",
       " '🤶': 6,\n",
       " '🌰': 49,\n",
       " '🍲': 12,\n",
       " '🍛': 21,\n",
       " '🏹': 7,\n",
       " '🛌': 14,\n",
       " '🛏': 7,\n",
       " '🛋': 6,\n",
       " '🚿': 7,\n",
       " '🛀': 11,\n",
       " '🕐': 6,\n",
       " '🚴': 9,\n",
       " '🌩': 61,\n",
       " '🌥': 4,\n",
       " '🌫': 4,\n",
       " '🥃': 13,\n",
       " '🤬': 1,\n",
       " '🚎': 4,\n",
       " '🏫': 17,\n",
       " '🚈': 5,\n",
       " '🚍': 5,\n",
       " '🥘': 14,\n",
       " '🥄': 6,\n",
       " '🥕': 9,\n",
       " '⛄': 8,\n",
       " '🌡': 7,\n",
       " '🏺': 5,\n",
       " '🛎': 12,\n",
       " '🚰': 11,\n",
       " '⛓': 4,\n",
       " '🚗': 13,\n",
       " '♿': 6,\n",
       " '🅰': 28,\n",
       " '🛰': 6,\n",
       " '🔯': 49,\n",
       " '⛎': 6,\n",
       " '⚜': 18,\n",
       " '⚕': 8,\n",
       " '✳': 14,\n",
       " '❔': 4,\n",
       " '❇': 18,\n",
       " '🚯': 7,\n",
       " '🚼': 16,\n",
       " '🚺': 10,\n",
       " '🚻': 12,\n",
       " '❎': 5,\n",
       " '🈁': 7,\n",
       " '📶': 5,\n",
       " '↪': 10,\n",
       " '↔': 5,\n",
       " '🔛': 17,\n",
       " '✖': 17,\n",
       " '➰': 14,\n",
       " '◾': 4,\n",
       " '🔘': 6,\n",
       " '🔲': 4,\n",
       " '🕖': 5,\n",
       " '🕕': 6,\n",
       " '🕓': 7,\n",
       " '🕛': 7,\n",
       " '🕤': 7,\n",
       " '🕞': 5,\n",
       " '🏴': 15,\n",
       " '🎌': 5,\n",
       " '🖋': 7,\n",
       " '🖇': 3,\n",
       " '🖌': 3,\n",
       " '🔎': 6,\n",
       " '🔏': 4,\n",
       " '🖍': 7,\n",
       " '☪': 4,\n",
       " '🎳': 21,\n",
       " '🚌': 5,\n",
       " '🚠': 7,\n",
       " '🛴': 12,\n",
       " '🚜': 4,\n",
       " '🍽': 8,\n",
       " '🌨': 16,\n",
       " '🏠': 28,\n",
       " '🚐': 4,\n",
       " '🕢': 5,\n",
       " '🕥': 5,\n",
       " '☂': 3,\n",
       " '🥖': 10,\n",
       " '🥞': 9,\n",
       " '🍘': 7,\n",
       " '🌂': 5,\n",
       " '🦐': 7,\n",
       " '🦈': 10,\n",
       " '🦂': 6,\n",
       " '🦏': 4,\n",
       " '🦍': 4,\n",
       " '🤺': 3,\n",
       " '⛹': 10,\n",
       " '🤽': 8,\n",
       " '🤼': 8,\n",
       " '🤾': 6,\n",
       " '🚵': 11,\n",
       " '🏇': 5,\n",
       " '🎽': 4,\n",
       " '🎟': 38,\n",
       " '🛵': 4,\n",
       " '🚘': 12,\n",
       " '🚃': 4,\n",
       " '🚅': 5,\n",
       " '🚊': 5,\n",
       " '🛫': 4,\n",
       " '🛬': 4,\n",
       " '🚉': 4,\n",
       " '🚖': 4,\n",
       " '🚞': 8,\n",
       " '🚁': 6,\n",
       " '🛩': 3,\n",
       " '🚆': 6,\n",
       " '🚟': 4,\n",
       " '🚄': 4,\n",
       " '🛳': 4,\n",
       " '🛥': 5,\n",
       " '🛶': 3,\n",
       " '⛴': 5,\n",
       " '🕳': 3,\n",
       " '🥚': 5,\n",
       " '🍙': 10,\n",
       " '🥅': 4,\n",
       " '🏑': 3,\n",
       " '🛍': 9,\n",
       " '🎑': 5,\n",
       " '🌉': 10,\n",
       " '🗾': 6,\n",
       " '🛁': 6,\n",
       " '🛠': 7,\n",
       " '🔩': 15,\n",
       " '♾': 1,\n",
       " '🉐': 7,\n",
       " '🈵': 6,\n",
       " '🔈': 7,\n",
       " '⏳': 7,\n",
       " '⌛': 7,\n",
       " '➕': 14,\n",
       " '🕍': 4,\n",
       " '🤩': 7,\n",
       " '⤴': 7,\n",
       " '☯': 16,\n",
       " '📳': 5,\n",
       " '🌘': 4,\n",
       " '🏤': 4,\n",
       " '🏥': 6,\n",
       " '🏦': 5,\n",
       " '🏧': 4,\n",
       " '🏩': 6,\n",
       " '🏭': 12,\n",
       " '🗿': 5,\n",
       " '🔧': 13,\n",
       " '🎿': 5,\n",
       " 'Ⓜ': 4,\n",
       " '🚏': 3,\n",
       " '🚕': 3,\n",
       " '🚚': 4,\n",
       " '🚛': 4,\n",
       " '🛂': 4,\n",
       " '🛃': 4,\n",
       " '🛄': 7,\n",
       " '🛅': 5,\n",
       " '🚳': 6,\n",
       " '🚷': 6,\n",
       " '🚸': 5,\n",
       " '🚥': 5,\n",
       " '🚦': 5,\n",
       " '🚧': 4,\n",
       " '🔚': 4,\n",
       " '🚱': 6,\n",
       " '🆎': 5,\n",
       " '🔠': 5,\n",
       " '🔡': 5,\n",
       " '🔢': 5,\n",
       " '🔣': 5,\n",
       " '🔤': 5,\n",
       " '➿': 4,\n",
       " '📴': 3,\n",
       " '🚹': 7,\n",
       " '🚭': 6,\n",
       " '⛔': 11,\n",
       " '🆗': 5,\n",
       " ...}"
      ]
     },
     "execution_count": 138,
     "metadata": {},
     "output_type": "execute_result"
    }
   ],
   "source": [
    "frequency_dict(emojis_list)"
   ]
  },
  {
   "cell_type": "code",
   "execution_count": 139,
   "id": "9242646f",
   "metadata": {},
   "outputs": [
    {
     "data": {
      "text/plain": [
       "[('😂', 36987),\n",
       " ('😍', 33453),\n",
       " ('❤', 31119),\n",
       " ('🔥', 8694),\n",
       " ('😭', 8398),\n",
       " ('👏', 5719),\n",
       " ('😘', 5545),\n",
       " ('👍', 5476),\n",
       " ('💖', 5359),\n",
       " ('💕', 5147)]"
      ]
     },
     "execution_count": 139,
     "metadata": {},
     "output_type": "execute_result"
    }
   ],
   "source": [
    "import collections\n",
    "counter = collections.Counter(frequency_dict(emojis_list))\n",
    "counter.most_common(10)"
   ]
  },
  {
   "cell_type": "code",
   "execution_count": 148,
   "id": "33e62a60",
   "metadata": {},
   "outputs": [],
   "source": [
    "emojis=[counter.most_common(10)[i][0] for i in range (10)]\n",
    "freq=[counter.most_common(10)[i][1] for i in range (10)] "
   ]
  },
  {
   "cell_type": "code",
   "execution_count": 156,
   "id": "0fe8e291",
   "metadata": {},
   "outputs": [
    {
     "data": {
      "text/plain": [
       "['😂', '😍', '❤', '🔥', '😭', '👏', '😘', '👍', '💖', '💕']"
      ]
     },
     "execution_count": 156,
     "metadata": {},
     "output_type": "execute_result"
    }
   ],
   "source": [
    "emojis"
   ]
  },
  {
   "cell_type": "code",
   "execution_count": 157,
   "id": "2522b1b2",
   "metadata": {},
   "outputs": [
    {
     "data": {
      "text/plain": [
       "[36987, 33453, 31119, 8694, 8398, 5719, 5545, 5476, 5359, 5147]"
      ]
     },
     "execution_count": 157,
     "metadata": {},
     "output_type": "execute_result"
    }
   ],
   "source": [
    "freq"
   ]
  },
  {
   "cell_type": "code",
   "execution_count": 151,
   "id": "59fe4246",
   "metadata": {},
   "outputs": [
    {
     "name": "stdout",
     "output_type": "stream",
     "text": [
      "Requirement already satisfied: plotly in c:\\users\\admin\\anaconda3\\lib\\site-packages (5.6.0)Note: you may need to restart the kernel to use updated packages.\n",
      "\n",
      "Requirement already satisfied: six in c:\\users\\admin\\anaconda3\\lib\\site-packages (from plotly) (1.16.0)\n",
      "Requirement already satisfied: tenacity>=6.2.0 in c:\\users\\admin\\anaconda3\\lib\\site-packages (from plotly) (8.0.1)\n"
     ]
    }
   ],
   "source": [
    "pip install plotly"
   ]
  },
  {
   "cell_type": "code",
   "execution_count": 152,
   "id": "447e2ccf",
   "metadata": {},
   "outputs": [],
   "source": [
    "import plotly.graph_objs as go"
   ]
  },
  {
   "cell_type": "code",
   "execution_count": 162,
   "id": "6298f556",
   "metadata": {},
   "outputs": [],
   "source": [
    "from plotly.offline import iplot"
   ]
  },
  {
   "cell_type": "code",
   "execution_count": 169,
   "id": "6562e17b",
   "metadata": {},
   "outputs": [],
   "source": [
    "trace=go.Bar(x=emojis, y=freq)"
   ]
  },
  {
   "cell_type": "code",
   "execution_count": 170,
   "id": "a5f2129e",
   "metadata": {},
   "outputs": [
    {
     "data": {
      "application/vnd.plotly.v1+json": {
       "config": {
        "plotlyServerURL": "https://plot.ly"
       },
       "data": [
        {
         "type": "bar",
         "x": [
          "😂",
          "😍",
          "❤",
          "🔥",
          "😭",
          "👏",
          "😘",
          "👍",
          "💖",
          "💕"
         ],
         "y": [
          36987,
          33453,
          31119,
          8694,
          8398,
          5719,
          5545,
          5476,
          5359,
          5147
         ]
        }
       ],
       "layout": {
        "template": {
         "data": {
          "bar": [
           {
            "error_x": {
             "color": "#2a3f5f"
            },
            "error_y": {
             "color": "#2a3f5f"
            },
            "marker": {
             "line": {
              "color": "#E5ECF6",
              "width": 0.5
             },
             "pattern": {
              "fillmode": "overlay",
              "size": 10,
              "solidity": 0.2
             }
            },
            "type": "bar"
           }
          ],
          "barpolar": [
           {
            "marker": {
             "line": {
              "color": "#E5ECF6",
              "width": 0.5
             },
             "pattern": {
              "fillmode": "overlay",
              "size": 10,
              "solidity": 0.2
             }
            },
            "type": "barpolar"
           }
          ],
          "carpet": [
           {
            "aaxis": {
             "endlinecolor": "#2a3f5f",
             "gridcolor": "white",
             "linecolor": "white",
             "minorgridcolor": "white",
             "startlinecolor": "#2a3f5f"
            },
            "baxis": {
             "endlinecolor": "#2a3f5f",
             "gridcolor": "white",
             "linecolor": "white",
             "minorgridcolor": "white",
             "startlinecolor": "#2a3f5f"
            },
            "type": "carpet"
           }
          ],
          "choropleth": [
           {
            "colorbar": {
             "outlinewidth": 0,
             "ticks": ""
            },
            "type": "choropleth"
           }
          ],
          "contour": [
           {
            "colorbar": {
             "outlinewidth": 0,
             "ticks": ""
            },
            "colorscale": [
             [
              0,
              "#0d0887"
             ],
             [
              0.1111111111111111,
              "#46039f"
             ],
             [
              0.2222222222222222,
              "#7201a8"
             ],
             [
              0.3333333333333333,
              "#9c179e"
             ],
             [
              0.4444444444444444,
              "#bd3786"
             ],
             [
              0.5555555555555556,
              "#d8576b"
             ],
             [
              0.6666666666666666,
              "#ed7953"
             ],
             [
              0.7777777777777778,
              "#fb9f3a"
             ],
             [
              0.8888888888888888,
              "#fdca26"
             ],
             [
              1,
              "#f0f921"
             ]
            ],
            "type": "contour"
           }
          ],
          "contourcarpet": [
           {
            "colorbar": {
             "outlinewidth": 0,
             "ticks": ""
            },
            "type": "contourcarpet"
           }
          ],
          "heatmap": [
           {
            "colorbar": {
             "outlinewidth": 0,
             "ticks": ""
            },
            "colorscale": [
             [
              0,
              "#0d0887"
             ],
             [
              0.1111111111111111,
              "#46039f"
             ],
             [
              0.2222222222222222,
              "#7201a8"
             ],
             [
              0.3333333333333333,
              "#9c179e"
             ],
             [
              0.4444444444444444,
              "#bd3786"
             ],
             [
              0.5555555555555556,
              "#d8576b"
             ],
             [
              0.6666666666666666,
              "#ed7953"
             ],
             [
              0.7777777777777778,
              "#fb9f3a"
             ],
             [
              0.8888888888888888,
              "#fdca26"
             ],
             [
              1,
              "#f0f921"
             ]
            ],
            "type": "heatmap"
           }
          ],
          "heatmapgl": [
           {
            "colorbar": {
             "outlinewidth": 0,
             "ticks": ""
            },
            "colorscale": [
             [
              0,
              "#0d0887"
             ],
             [
              0.1111111111111111,
              "#46039f"
             ],
             [
              0.2222222222222222,
              "#7201a8"
             ],
             [
              0.3333333333333333,
              "#9c179e"
             ],
             [
              0.4444444444444444,
              "#bd3786"
             ],
             [
              0.5555555555555556,
              "#d8576b"
             ],
             [
              0.6666666666666666,
              "#ed7953"
             ],
             [
              0.7777777777777778,
              "#fb9f3a"
             ],
             [
              0.8888888888888888,
              "#fdca26"
             ],
             [
              1,
              "#f0f921"
             ]
            ],
            "type": "heatmapgl"
           }
          ],
          "histogram": [
           {
            "marker": {
             "pattern": {
              "fillmode": "overlay",
              "size": 10,
              "solidity": 0.2
             }
            },
            "type": "histogram"
           }
          ],
          "histogram2d": [
           {
            "colorbar": {
             "outlinewidth": 0,
             "ticks": ""
            },
            "colorscale": [
             [
              0,
              "#0d0887"
             ],
             [
              0.1111111111111111,
              "#46039f"
             ],
             [
              0.2222222222222222,
              "#7201a8"
             ],
             [
              0.3333333333333333,
              "#9c179e"
             ],
             [
              0.4444444444444444,
              "#bd3786"
             ],
             [
              0.5555555555555556,
              "#d8576b"
             ],
             [
              0.6666666666666666,
              "#ed7953"
             ],
             [
              0.7777777777777778,
              "#fb9f3a"
             ],
             [
              0.8888888888888888,
              "#fdca26"
             ],
             [
              1,
              "#f0f921"
             ]
            ],
            "type": "histogram2d"
           }
          ],
          "histogram2dcontour": [
           {
            "colorbar": {
             "outlinewidth": 0,
             "ticks": ""
            },
            "colorscale": [
             [
              0,
              "#0d0887"
             ],
             [
              0.1111111111111111,
              "#46039f"
             ],
             [
              0.2222222222222222,
              "#7201a8"
             ],
             [
              0.3333333333333333,
              "#9c179e"
             ],
             [
              0.4444444444444444,
              "#bd3786"
             ],
             [
              0.5555555555555556,
              "#d8576b"
             ],
             [
              0.6666666666666666,
              "#ed7953"
             ],
             [
              0.7777777777777778,
              "#fb9f3a"
             ],
             [
              0.8888888888888888,
              "#fdca26"
             ],
             [
              1,
              "#f0f921"
             ]
            ],
            "type": "histogram2dcontour"
           }
          ],
          "mesh3d": [
           {
            "colorbar": {
             "outlinewidth": 0,
             "ticks": ""
            },
            "type": "mesh3d"
           }
          ],
          "parcoords": [
           {
            "line": {
             "colorbar": {
              "outlinewidth": 0,
              "ticks": ""
             }
            },
            "type": "parcoords"
           }
          ],
          "pie": [
           {
            "automargin": true,
            "type": "pie"
           }
          ],
          "scatter": [
           {
            "marker": {
             "colorbar": {
              "outlinewidth": 0,
              "ticks": ""
             }
            },
            "type": "scatter"
           }
          ],
          "scatter3d": [
           {
            "line": {
             "colorbar": {
              "outlinewidth": 0,
              "ticks": ""
             }
            },
            "marker": {
             "colorbar": {
              "outlinewidth": 0,
              "ticks": ""
             }
            },
            "type": "scatter3d"
           }
          ],
          "scattercarpet": [
           {
            "marker": {
             "colorbar": {
              "outlinewidth": 0,
              "ticks": ""
             }
            },
            "type": "scattercarpet"
           }
          ],
          "scattergeo": [
           {
            "marker": {
             "colorbar": {
              "outlinewidth": 0,
              "ticks": ""
             }
            },
            "type": "scattergeo"
           }
          ],
          "scattergl": [
           {
            "marker": {
             "colorbar": {
              "outlinewidth": 0,
              "ticks": ""
             }
            },
            "type": "scattergl"
           }
          ],
          "scattermapbox": [
           {
            "marker": {
             "colorbar": {
              "outlinewidth": 0,
              "ticks": ""
             }
            },
            "type": "scattermapbox"
           }
          ],
          "scatterpolar": [
           {
            "marker": {
             "colorbar": {
              "outlinewidth": 0,
              "ticks": ""
             }
            },
            "type": "scatterpolar"
           }
          ],
          "scatterpolargl": [
           {
            "marker": {
             "colorbar": {
              "outlinewidth": 0,
              "ticks": ""
             }
            },
            "type": "scatterpolargl"
           }
          ],
          "scatterternary": [
           {
            "marker": {
             "colorbar": {
              "outlinewidth": 0,
              "ticks": ""
             }
            },
            "type": "scatterternary"
           }
          ],
          "surface": [
           {
            "colorbar": {
             "outlinewidth": 0,
             "ticks": ""
            },
            "colorscale": [
             [
              0,
              "#0d0887"
             ],
             [
              0.1111111111111111,
              "#46039f"
             ],
             [
              0.2222222222222222,
              "#7201a8"
             ],
             [
              0.3333333333333333,
              "#9c179e"
             ],
             [
              0.4444444444444444,
              "#bd3786"
             ],
             [
              0.5555555555555556,
              "#d8576b"
             ],
             [
              0.6666666666666666,
              "#ed7953"
             ],
             [
              0.7777777777777778,
              "#fb9f3a"
             ],
             [
              0.8888888888888888,
              "#fdca26"
             ],
             [
              1,
              "#f0f921"
             ]
            ],
            "type": "surface"
           }
          ],
          "table": [
           {
            "cells": {
             "fill": {
              "color": "#EBF0F8"
             },
             "line": {
              "color": "white"
             }
            },
            "header": {
             "fill": {
              "color": "#C8D4E3"
             },
             "line": {
              "color": "white"
             }
            },
            "type": "table"
           }
          ]
         },
         "layout": {
          "annotationdefaults": {
           "arrowcolor": "#2a3f5f",
           "arrowhead": 0,
           "arrowwidth": 1
          },
          "autotypenumbers": "strict",
          "coloraxis": {
           "colorbar": {
            "outlinewidth": 0,
            "ticks": ""
           }
          },
          "colorscale": {
           "diverging": [
            [
             0,
             "#8e0152"
            ],
            [
             0.1,
             "#c51b7d"
            ],
            [
             0.2,
             "#de77ae"
            ],
            [
             0.3,
             "#f1b6da"
            ],
            [
             0.4,
             "#fde0ef"
            ],
            [
             0.5,
             "#f7f7f7"
            ],
            [
             0.6,
             "#e6f5d0"
            ],
            [
             0.7,
             "#b8e186"
            ],
            [
             0.8,
             "#7fbc41"
            ],
            [
             0.9,
             "#4d9221"
            ],
            [
             1,
             "#276419"
            ]
           ],
           "sequential": [
            [
             0,
             "#0d0887"
            ],
            [
             0.1111111111111111,
             "#46039f"
            ],
            [
             0.2222222222222222,
             "#7201a8"
            ],
            [
             0.3333333333333333,
             "#9c179e"
            ],
            [
             0.4444444444444444,
             "#bd3786"
            ],
            [
             0.5555555555555556,
             "#d8576b"
            ],
            [
             0.6666666666666666,
             "#ed7953"
            ],
            [
             0.7777777777777778,
             "#fb9f3a"
            ],
            [
             0.8888888888888888,
             "#fdca26"
            ],
            [
             1,
             "#f0f921"
            ]
           ],
           "sequentialminus": [
            [
             0,
             "#0d0887"
            ],
            [
             0.1111111111111111,
             "#46039f"
            ],
            [
             0.2222222222222222,
             "#7201a8"
            ],
            [
             0.3333333333333333,
             "#9c179e"
            ],
            [
             0.4444444444444444,
             "#bd3786"
            ],
            [
             0.5555555555555556,
             "#d8576b"
            ],
            [
             0.6666666666666666,
             "#ed7953"
            ],
            [
             0.7777777777777778,
             "#fb9f3a"
            ],
            [
             0.8888888888888888,
             "#fdca26"
            ],
            [
             1,
             "#f0f921"
            ]
           ]
          },
          "colorway": [
           "#636efa",
           "#EF553B",
           "#00cc96",
           "#ab63fa",
           "#FFA15A",
           "#19d3f3",
           "#FF6692",
           "#B6E880",
           "#FF97FF",
           "#FECB52"
          ],
          "font": {
           "color": "#2a3f5f"
          },
          "geo": {
           "bgcolor": "white",
           "lakecolor": "white",
           "landcolor": "#E5ECF6",
           "showlakes": true,
           "showland": true,
           "subunitcolor": "white"
          },
          "hoverlabel": {
           "align": "left"
          },
          "hovermode": "closest",
          "mapbox": {
           "style": "light"
          },
          "paper_bgcolor": "white",
          "plot_bgcolor": "#E5ECF6",
          "polar": {
           "angularaxis": {
            "gridcolor": "white",
            "linecolor": "white",
            "ticks": ""
           },
           "bgcolor": "#E5ECF6",
           "radialaxis": {
            "gridcolor": "white",
            "linecolor": "white",
            "ticks": ""
           }
          },
          "scene": {
           "xaxis": {
            "backgroundcolor": "#E5ECF6",
            "gridcolor": "white",
            "gridwidth": 2,
            "linecolor": "white",
            "showbackground": true,
            "ticks": "",
            "zerolinecolor": "white"
           },
           "yaxis": {
            "backgroundcolor": "#E5ECF6",
            "gridcolor": "white",
            "gridwidth": 2,
            "linecolor": "white",
            "showbackground": true,
            "ticks": "",
            "zerolinecolor": "white"
           },
           "zaxis": {
            "backgroundcolor": "#E5ECF6",
            "gridcolor": "white",
            "gridwidth": 2,
            "linecolor": "white",
            "showbackground": true,
            "ticks": "",
            "zerolinecolor": "white"
           }
          },
          "shapedefaults": {
           "line": {
            "color": "#2a3f5f"
           }
          },
          "ternary": {
           "aaxis": {
            "gridcolor": "white",
            "linecolor": "white",
            "ticks": ""
           },
           "baxis": {
            "gridcolor": "white",
            "linecolor": "white",
            "ticks": ""
           },
           "bgcolor": "#E5ECF6",
           "caxis": {
            "gridcolor": "white",
            "linecolor": "white",
            "ticks": ""
           }
          },
          "title": {
           "x": 0.05
          },
          "xaxis": {
           "automargin": true,
           "gridcolor": "white",
           "linecolor": "white",
           "ticks": "",
           "title": {
            "standoff": 15
           },
           "zerolinecolor": "white",
           "zerolinewidth": 2
          },
          "yaxis": {
           "automargin": true,
           "gridcolor": "white",
           "linecolor": "white",
           "ticks": "",
           "title": {
            "standoff": 15
           },
           "zerolinecolor": "white",
           "zerolinewidth": 2
          }
         }
        }
       }
      },
      "text/html": [
       "<div>                            <div id=\"84abb9c6-7377-4816-8180-752087e570ec\" class=\"plotly-graph-div\" style=\"height:525px; width:100%;\"></div>            <script type=\"text/javascript\">                require([\"plotly\"], function(Plotly) {                    window.PLOTLYENV=window.PLOTLYENV || {};                                    if (document.getElementById(\"84abb9c6-7377-4816-8180-752087e570ec\")) {                    Plotly.newPlot(                        \"84abb9c6-7377-4816-8180-752087e570ec\",                        [{\"x\":[\"\\ud83d\\ude02\",\"\\ud83d\\ude0d\",\"\\u2764\",\"\\ud83d\\udd25\",\"\\ud83d\\ude2d\",\"\\ud83d\\udc4f\",\"\\ud83d\\ude18\",\"\\ud83d\\udc4d\",\"\\ud83d\\udc96\",\"\\ud83d\\udc95\"],\"y\":[36987,33453,31119,8694,8398,5719,5545,5476,5359,5147],\"type\":\"bar\"}],                        {\"template\":{\"data\":{\"bar\":[{\"error_x\":{\"color\":\"#2a3f5f\"},\"error_y\":{\"color\":\"#2a3f5f\"},\"marker\":{\"line\":{\"color\":\"#E5ECF6\",\"width\":0.5},\"pattern\":{\"fillmode\":\"overlay\",\"size\":10,\"solidity\":0.2}},\"type\":\"bar\"}],\"barpolar\":[{\"marker\":{\"line\":{\"color\":\"#E5ECF6\",\"width\":0.5},\"pattern\":{\"fillmode\":\"overlay\",\"size\":10,\"solidity\":0.2}},\"type\":\"barpolar\"}],\"carpet\":[{\"aaxis\":{\"endlinecolor\":\"#2a3f5f\",\"gridcolor\":\"white\",\"linecolor\":\"white\",\"minorgridcolor\":\"white\",\"startlinecolor\":\"#2a3f5f\"},\"baxis\":{\"endlinecolor\":\"#2a3f5f\",\"gridcolor\":\"white\",\"linecolor\":\"white\",\"minorgridcolor\":\"white\",\"startlinecolor\":\"#2a3f5f\"},\"type\":\"carpet\"}],\"choropleth\":[{\"colorbar\":{\"outlinewidth\":0,\"ticks\":\"\"},\"type\":\"choropleth\"}],\"contour\":[{\"colorbar\":{\"outlinewidth\":0,\"ticks\":\"\"},\"colorscale\":[[0.0,\"#0d0887\"],[0.1111111111111111,\"#46039f\"],[0.2222222222222222,\"#7201a8\"],[0.3333333333333333,\"#9c179e\"],[0.4444444444444444,\"#bd3786\"],[0.5555555555555556,\"#d8576b\"],[0.6666666666666666,\"#ed7953\"],[0.7777777777777778,\"#fb9f3a\"],[0.8888888888888888,\"#fdca26\"],[1.0,\"#f0f921\"]],\"type\":\"contour\"}],\"contourcarpet\":[{\"colorbar\":{\"outlinewidth\":0,\"ticks\":\"\"},\"type\":\"contourcarpet\"}],\"heatmap\":[{\"colorbar\":{\"outlinewidth\":0,\"ticks\":\"\"},\"colorscale\":[[0.0,\"#0d0887\"],[0.1111111111111111,\"#46039f\"],[0.2222222222222222,\"#7201a8\"],[0.3333333333333333,\"#9c179e\"],[0.4444444444444444,\"#bd3786\"],[0.5555555555555556,\"#d8576b\"],[0.6666666666666666,\"#ed7953\"],[0.7777777777777778,\"#fb9f3a\"],[0.8888888888888888,\"#fdca26\"],[1.0,\"#f0f921\"]],\"type\":\"heatmap\"}],\"heatmapgl\":[{\"colorbar\":{\"outlinewidth\":0,\"ticks\":\"\"},\"colorscale\":[[0.0,\"#0d0887\"],[0.1111111111111111,\"#46039f\"],[0.2222222222222222,\"#7201a8\"],[0.3333333333333333,\"#9c179e\"],[0.4444444444444444,\"#bd3786\"],[0.5555555555555556,\"#d8576b\"],[0.6666666666666666,\"#ed7953\"],[0.7777777777777778,\"#fb9f3a\"],[0.8888888888888888,\"#fdca26\"],[1.0,\"#f0f921\"]],\"type\":\"heatmapgl\"}],\"histogram\":[{\"marker\":{\"pattern\":{\"fillmode\":\"overlay\",\"size\":10,\"solidity\":0.2}},\"type\":\"histogram\"}],\"histogram2d\":[{\"colorbar\":{\"outlinewidth\":0,\"ticks\":\"\"},\"colorscale\":[[0.0,\"#0d0887\"],[0.1111111111111111,\"#46039f\"],[0.2222222222222222,\"#7201a8\"],[0.3333333333333333,\"#9c179e\"],[0.4444444444444444,\"#bd3786\"],[0.5555555555555556,\"#d8576b\"],[0.6666666666666666,\"#ed7953\"],[0.7777777777777778,\"#fb9f3a\"],[0.8888888888888888,\"#fdca26\"],[1.0,\"#f0f921\"]],\"type\":\"histogram2d\"}],\"histogram2dcontour\":[{\"colorbar\":{\"outlinewidth\":0,\"ticks\":\"\"},\"colorscale\":[[0.0,\"#0d0887\"],[0.1111111111111111,\"#46039f\"],[0.2222222222222222,\"#7201a8\"],[0.3333333333333333,\"#9c179e\"],[0.4444444444444444,\"#bd3786\"],[0.5555555555555556,\"#d8576b\"],[0.6666666666666666,\"#ed7953\"],[0.7777777777777778,\"#fb9f3a\"],[0.8888888888888888,\"#fdca26\"],[1.0,\"#f0f921\"]],\"type\":\"histogram2dcontour\"}],\"mesh3d\":[{\"colorbar\":{\"outlinewidth\":0,\"ticks\":\"\"},\"type\":\"mesh3d\"}],\"parcoords\":[{\"line\":{\"colorbar\":{\"outlinewidth\":0,\"ticks\":\"\"}},\"type\":\"parcoords\"}],\"pie\":[{\"automargin\":true,\"type\":\"pie\"}],\"scatter\":[{\"marker\":{\"colorbar\":{\"outlinewidth\":0,\"ticks\":\"\"}},\"type\":\"scatter\"}],\"scatter3d\":[{\"line\":{\"colorbar\":{\"outlinewidth\":0,\"ticks\":\"\"}},\"marker\":{\"colorbar\":{\"outlinewidth\":0,\"ticks\":\"\"}},\"type\":\"scatter3d\"}],\"scattercarpet\":[{\"marker\":{\"colorbar\":{\"outlinewidth\":0,\"ticks\":\"\"}},\"type\":\"scattercarpet\"}],\"scattergeo\":[{\"marker\":{\"colorbar\":{\"outlinewidth\":0,\"ticks\":\"\"}},\"type\":\"scattergeo\"}],\"scattergl\":[{\"marker\":{\"colorbar\":{\"outlinewidth\":0,\"ticks\":\"\"}},\"type\":\"scattergl\"}],\"scattermapbox\":[{\"marker\":{\"colorbar\":{\"outlinewidth\":0,\"ticks\":\"\"}},\"type\":\"scattermapbox\"}],\"scatterpolar\":[{\"marker\":{\"colorbar\":{\"outlinewidth\":0,\"ticks\":\"\"}},\"type\":\"scatterpolar\"}],\"scatterpolargl\":[{\"marker\":{\"colorbar\":{\"outlinewidth\":0,\"ticks\":\"\"}},\"type\":\"scatterpolargl\"}],\"scatterternary\":[{\"marker\":{\"colorbar\":{\"outlinewidth\":0,\"ticks\":\"\"}},\"type\":\"scatterternary\"}],\"surface\":[{\"colorbar\":{\"outlinewidth\":0,\"ticks\":\"\"},\"colorscale\":[[0.0,\"#0d0887\"],[0.1111111111111111,\"#46039f\"],[0.2222222222222222,\"#7201a8\"],[0.3333333333333333,\"#9c179e\"],[0.4444444444444444,\"#bd3786\"],[0.5555555555555556,\"#d8576b\"],[0.6666666666666666,\"#ed7953\"],[0.7777777777777778,\"#fb9f3a\"],[0.8888888888888888,\"#fdca26\"],[1.0,\"#f0f921\"]],\"type\":\"surface\"}],\"table\":[{\"cells\":{\"fill\":{\"color\":\"#EBF0F8\"},\"line\":{\"color\":\"white\"}},\"header\":{\"fill\":{\"color\":\"#C8D4E3\"},\"line\":{\"color\":\"white\"}},\"type\":\"table\"}]},\"layout\":{\"annotationdefaults\":{\"arrowcolor\":\"#2a3f5f\",\"arrowhead\":0,\"arrowwidth\":1},\"autotypenumbers\":\"strict\",\"coloraxis\":{\"colorbar\":{\"outlinewidth\":0,\"ticks\":\"\"}},\"colorscale\":{\"diverging\":[[0,\"#8e0152\"],[0.1,\"#c51b7d\"],[0.2,\"#de77ae\"],[0.3,\"#f1b6da\"],[0.4,\"#fde0ef\"],[0.5,\"#f7f7f7\"],[0.6,\"#e6f5d0\"],[0.7,\"#b8e186\"],[0.8,\"#7fbc41\"],[0.9,\"#4d9221\"],[1,\"#276419\"]],\"sequential\":[[0.0,\"#0d0887\"],[0.1111111111111111,\"#46039f\"],[0.2222222222222222,\"#7201a8\"],[0.3333333333333333,\"#9c179e\"],[0.4444444444444444,\"#bd3786\"],[0.5555555555555556,\"#d8576b\"],[0.6666666666666666,\"#ed7953\"],[0.7777777777777778,\"#fb9f3a\"],[0.8888888888888888,\"#fdca26\"],[1.0,\"#f0f921\"]],\"sequentialminus\":[[0.0,\"#0d0887\"],[0.1111111111111111,\"#46039f\"],[0.2222222222222222,\"#7201a8\"],[0.3333333333333333,\"#9c179e\"],[0.4444444444444444,\"#bd3786\"],[0.5555555555555556,\"#d8576b\"],[0.6666666666666666,\"#ed7953\"],[0.7777777777777778,\"#fb9f3a\"],[0.8888888888888888,\"#fdca26\"],[1.0,\"#f0f921\"]]},\"colorway\":[\"#636efa\",\"#EF553B\",\"#00cc96\",\"#ab63fa\",\"#FFA15A\",\"#19d3f3\",\"#FF6692\",\"#B6E880\",\"#FF97FF\",\"#FECB52\"],\"font\":{\"color\":\"#2a3f5f\"},\"geo\":{\"bgcolor\":\"white\",\"lakecolor\":\"white\",\"landcolor\":\"#E5ECF6\",\"showlakes\":true,\"showland\":true,\"subunitcolor\":\"white\"},\"hoverlabel\":{\"align\":\"left\"},\"hovermode\":\"closest\",\"mapbox\":{\"style\":\"light\"},\"paper_bgcolor\":\"white\",\"plot_bgcolor\":\"#E5ECF6\",\"polar\":{\"angularaxis\":{\"gridcolor\":\"white\",\"linecolor\":\"white\",\"ticks\":\"\"},\"bgcolor\":\"#E5ECF6\",\"radialaxis\":{\"gridcolor\":\"white\",\"linecolor\":\"white\",\"ticks\":\"\"}},\"scene\":{\"xaxis\":{\"backgroundcolor\":\"#E5ECF6\",\"gridcolor\":\"white\",\"gridwidth\":2,\"linecolor\":\"white\",\"showbackground\":true,\"ticks\":\"\",\"zerolinecolor\":\"white\"},\"yaxis\":{\"backgroundcolor\":\"#E5ECF6\",\"gridcolor\":\"white\",\"gridwidth\":2,\"linecolor\":\"white\",\"showbackground\":true,\"ticks\":\"\",\"zerolinecolor\":\"white\"},\"zaxis\":{\"backgroundcolor\":\"#E5ECF6\",\"gridcolor\":\"white\",\"gridwidth\":2,\"linecolor\":\"white\",\"showbackground\":true,\"ticks\":\"\",\"zerolinecolor\":\"white\"}},\"shapedefaults\":{\"line\":{\"color\":\"#2a3f5f\"}},\"ternary\":{\"aaxis\":{\"gridcolor\":\"white\",\"linecolor\":\"white\",\"ticks\":\"\"},\"baxis\":{\"gridcolor\":\"white\",\"linecolor\":\"white\",\"ticks\":\"\"},\"bgcolor\":\"#E5ECF6\",\"caxis\":{\"gridcolor\":\"white\",\"linecolor\":\"white\",\"ticks\":\"\"}},\"title\":{\"x\":0.05},\"xaxis\":{\"automargin\":true,\"gridcolor\":\"white\",\"linecolor\":\"white\",\"ticks\":\"\",\"title\":{\"standoff\":15},\"zerolinecolor\":\"white\",\"zerolinewidth\":2},\"yaxis\":{\"automargin\":true,\"gridcolor\":\"white\",\"linecolor\":\"white\",\"ticks\":\"\",\"title\":{\"standoff\":15},\"zerolinecolor\":\"white\",\"zerolinewidth\":2}}}},                        {\"responsive\": true}                    ).then(function(){\n",
       "                            \n",
       "var gd = document.getElementById('84abb9c6-7377-4816-8180-752087e570ec');\n",
       "var x = new MutationObserver(function (mutations, observer) {{\n",
       "        var display = window.getComputedStyle(gd).display;\n",
       "        if (!display || display === 'none') {{\n",
       "            console.log([gd, 'removed!']);\n",
       "            Plotly.purge(gd);\n",
       "            observer.disconnect();\n",
       "        }}\n",
       "}});\n",
       "\n",
       "// Listen for the removal of the full notebook cells\n",
       "var notebookContainer = gd.closest('#notebook-container');\n",
       "if (notebookContainer) {{\n",
       "    x.observe(notebookContainer, {childList: true});\n",
       "}}\n",
       "\n",
       "// Listen for the clearing of the current output cell\n",
       "var outputEl = gd.closest('.output');\n",
       "if (outputEl) {{\n",
       "    x.observe(outputEl, {childList: true});\n",
       "}}\n",
       "\n",
       "                        })                };                });            </script>        </div>"
      ]
     },
     "metadata": {},
     "output_type": "display_data"
    }
   ],
   "source": [
    "fig = go.Figure(trace)\n",
    "fig.show()"
   ]
  },
  {
   "cell_type": "code",
   "execution_count": null,
   "id": "a13216ff",
   "metadata": {},
   "outputs": [],
   "source": []
  }
 ],
 "metadata": {
  "kernelspec": {
   "display_name": "Python 3 (ipykernel)",
   "language": "python",
   "name": "python3"
  },
  "language_info": {
   "codemirror_mode": {
    "name": "ipython",
    "version": 3
   },
   "file_extension": ".py",
   "mimetype": "text/x-python",
   "name": "python",
   "nbconvert_exporter": "python",
   "pygments_lexer": "ipython3",
   "version": "3.9.12"
  }
 },
 "nbformat": 4,
 "nbformat_minor": 5
}
